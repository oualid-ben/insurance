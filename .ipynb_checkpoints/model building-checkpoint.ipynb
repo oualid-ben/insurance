{
 "cells": [
  {
   "cell_type": "code",
   "execution_count": 27,
   "id": "eb514d8c",
   "metadata": {},
   "outputs": [],
   "source": [
    "import pandas as pd\n",
    "from sklearn.model_selection import train_test_split\n",
    "\n",
    "insurance = pd.read_csv('https://raw.githubusercontent.com/oualid-ben/data/main/clean_data_fraud.csv', on_bad_lines='skip')\n",
    "\n",
    "# Ordinal feature encoding\n",
    "# https://www.kaggle.com/pratik1120/penguin-dataset-eda-classification-and-clustering\n",
    "df = insurance.copy()\n",
    "\n",
    "\n",
    "# Separating X and y\n",
    "X = df.drop('fraud_reported', axis=1)\n",
    "Y = df['fraud_reported']\n",
    "\n",
    "X_train, X_test, y_train, y_test = train_test_split(X, Y, test_size=0.25)\n",
    "        \n",
    "        \n",
    "# Build random forest model\n",
    "from sklearn.neighbors import KNeighborsClassifier\n",
    "\n",
    "knn = KNeighborsClassifier(n_neighbors = 3)\n",
    "knn.fit(X_train, y_train)\n",
    "\n",
    "\n",
    "# Saving the model\n",
    "import pickle\n",
    "pickle.dump(knn, open('insurance.pkl', 'wb'))"
   ]
  },
  {
   "cell_type": "code",
   "execution_count": null,
   "id": "95807a9c",
   "metadata": {},
   "outputs": [],
   "source": []
  }
 ],
 "metadata": {
  "kernelspec": {
   "display_name": "Python 3 (ipykernel)",
   "language": "python",
   "name": "python3"
  },
  "language_info": {
   "codemirror_mode": {
    "name": "ipython",
    "version": 3
   },
   "file_extension": ".py",
   "mimetype": "text/x-python",
   "name": "python",
   "nbconvert_exporter": "python",
   "pygments_lexer": "ipython3",
   "version": "3.9.7"
  }
 },
 "nbformat": 4,
 "nbformat_minor": 5
}
