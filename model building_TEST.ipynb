{
 "cells": [
  {
   "cell_type": "code",
   "execution_count": 134,
   "id": "c8f9dc2b",
   "metadata": {},
   "outputs": [],
   "source": [
    "import pandas as pd\n",
    "from sklearn.model_selection import train_test_split\n",
    "from sklearn.neighbors import KNeighborsClassifier\n",
    "from sklearn.tree import DecisionTreeClassifier\n",
    "from sklearn.linear_model import LogisticRegression"
   ]
  },
  {
   "cell_type": "code",
   "execution_count": 124,
   "id": "2255a71d",
   "metadata": {},
   "outputs": [],
   "source": [
    "ka = pd.read_csv('https://raw.githubusercontent.com/oualid-ben/data/main/clean_data_fraud.csv', on_bad_lines='skip')\n",
    "dfa = ka.copy()\n",
    "\n",
    "# Separating X and y\n",
    "Xa = dfa.drop('fraud_reported', axis=1)\n",
    "Ya = dfa['fraud_reported']\n",
    "\n",
    "X_traina, X_testa, y_traina, y_testa = train_test_split(Xa, Ya, test_size=0.25)"
   ]
  },
  {
   "cell_type": "code",
   "execution_count": 125,
   "id": "bf7eb7b9",
   "metadata": {},
   "outputs": [
    {
     "data": {
      "text/html": [
       "<div>\n",
       "<style scoped>\n",
       "    .dataframe tbody tr th:only-of-type {\n",
       "        vertical-align: middle;\n",
       "    }\n",
       "\n",
       "    .dataframe tbody tr th {\n",
       "        vertical-align: top;\n",
       "    }\n",
       "\n",
       "    .dataframe thead th {\n",
       "        text-align: right;\n",
       "    }\n",
       "</style>\n",
       "<table border=\"1\" class=\"dataframe\">\n",
       "  <thead>\n",
       "    <tr style=\"text-align: right;\">\n",
       "      <th></th>\n",
       "      <th>policy_annual_premium</th>\n",
       "      <th>umbrella_limit</th>\n",
       "      <th>capital_gains</th>\n",
       "      <th>capital_loss</th>\n",
       "      <th>incident_severity</th>\n",
       "      <th>incident_hour_of_the_day</th>\n",
       "      <th>number_of_vehicles_involved</th>\n",
       "      <th>bodily_injuries</th>\n",
       "      <th>property_claim</th>\n",
       "    </tr>\n",
       "  </thead>\n",
       "  <tbody>\n",
       "    <tr>\n",
       "      <th>0</th>\n",
       "      <td>1406.91</td>\n",
       "      <td>0</td>\n",
       "      <td>53300</td>\n",
       "      <td>0</td>\n",
       "      <td>1</td>\n",
       "      <td>5</td>\n",
       "      <td>1</td>\n",
       "      <td>1</td>\n",
       "      <td>13020</td>\n",
       "    </tr>\n",
       "  </tbody>\n",
       "</table>\n",
       "</div>"
      ],
      "text/plain": [
       "   policy_annual_premium  umbrella_limit  capital_gains  capital_loss  \\\n",
       "0                1406.91               0          53300             0   \n",
       "\n",
       "   incident_severity  incident_hour_of_the_day  number_of_vehicles_involved  \\\n",
       "0                  1                         5                            1   \n",
       "\n",
       "   bodily_injuries  property_claim  \n",
       "0                1           13020  "
      ]
     },
     "execution_count": 125,
     "metadata": {},
     "output_type": "execute_result"
    }
   ],
   "source": [
    "#ça devrait donner 1, fraud\n",
    "a = pd.read_csv('https://raw.githubusercontent.com/oualid-ben/data/main/clean_data_example.csv', on_bad_lines='skip')\n",
    "a"
   ]
  },
  {
   "cell_type": "code",
   "execution_count": 126,
   "id": "4bbe4d36",
   "metadata": {},
   "outputs": [
    {
     "data": {
      "text/html": [
       "<div>\n",
       "<style scoped>\n",
       "    .dataframe tbody tr th:only-of-type {\n",
       "        vertical-align: middle;\n",
       "    }\n",
       "\n",
       "    .dataframe tbody tr th {\n",
       "        vertical-align: top;\n",
       "    }\n",
       "\n",
       "    .dataframe thead th {\n",
       "        text-align: right;\n",
       "    }\n",
       "</style>\n",
       "<table border=\"1\" class=\"dataframe\">\n",
       "  <thead>\n",
       "    <tr style=\"text-align: right;\">\n",
       "      <th></th>\n",
       "      <th>policy_annual_premium</th>\n",
       "      <th>umbrella_limit</th>\n",
       "      <th>capital_gains</th>\n",
       "      <th>capital_loss</th>\n",
       "      <th>incident_severity</th>\n",
       "      <th>incident_hour_of_the_day</th>\n",
       "      <th>number_of_vehicles_involved</th>\n",
       "      <th>bodily_injuries</th>\n",
       "      <th>property_claim</th>\n",
       "    </tr>\n",
       "  </thead>\n",
       "  <tbody>\n",
       "    <tr>\n",
       "      <th>0</th>\n",
       "      <td>1442.99</td>\n",
       "      <td>0</td>\n",
       "      <td>0</td>\n",
       "      <td>0</td>\n",
       "      <td>2</td>\n",
       "      <td>21</td>\n",
       "      <td>1</td>\n",
       "      <td>1</td>\n",
       "      <td>2770</td>\n",
       "    </tr>\n",
       "  </tbody>\n",
       "</table>\n",
       "</div>"
      ],
      "text/plain": [
       "   policy_annual_premium  umbrella_limit  capital_gains  capital_loss  \\\n",
       "0                1442.99               0              0             0   \n",
       "\n",
       "   incident_severity  incident_hour_of_the_day  number_of_vehicles_involved  \\\n",
       "0                  2                        21                            1   \n",
       "\n",
       "   bodily_injuries  property_claim  \n",
       "0                1            2770  "
      ]
     },
     "execution_count": 126,
     "metadata": {},
     "output_type": "execute_result"
    }
   ],
   "source": [
    "#ça devrait donner 0, pas de fraud\n",
    "b = pd.read_csv('https://raw.githubusercontent.com/oualid-ben/data/main/example_knn.csv', on_bad_lines='skip')\n",
    "b"
   ]
  },
  {
   "cell_type": "code",
   "execution_count": 127,
   "id": "04bb6fb9",
   "metadata": {},
   "outputs": [
    {
     "data": {
      "text/html": [
       "<div>\n",
       "<style scoped>\n",
       "    .dataframe tbody tr th:only-of-type {\n",
       "        vertical-align: middle;\n",
       "    }\n",
       "\n",
       "    .dataframe tbody tr th {\n",
       "        vertical-align: top;\n",
       "    }\n",
       "\n",
       "    .dataframe thead th {\n",
       "        text-align: right;\n",
       "    }\n",
       "</style>\n",
       "<table border=\"1\" class=\"dataframe\">\n",
       "  <thead>\n",
       "    <tr style=\"text-align: right;\">\n",
       "      <th></th>\n",
       "      <th>policy_annual_premium</th>\n",
       "      <th>umbrella_limit</th>\n",
       "      <th>capital_gains</th>\n",
       "      <th>capital_loss</th>\n",
       "      <th>incident_severity</th>\n",
       "      <th>incident_hour_of_the_day</th>\n",
       "      <th>number_of_vehicles_involved</th>\n",
       "      <th>bodily_injuries</th>\n",
       "      <th>property_claim</th>\n",
       "    </tr>\n",
       "  </thead>\n",
       "  <tbody>\n",
       "    <tr>\n",
       "      <th>0</th>\n",
       "      <td>1442.99</td>\n",
       "      <td>0</td>\n",
       "      <td>0</td>\n",
       "      <td>0</td>\n",
       "      <td>2</td>\n",
       "      <td>21</td>\n",
       "      <td>1</td>\n",
       "      <td>1</td>\n",
       "      <td>2770</td>\n",
       "    </tr>\n",
       "  </tbody>\n",
       "</table>\n",
       "</div>"
      ],
      "text/plain": [
       "   policy_annual_premium  umbrella_limit  capital_gains  capital_loss  \\\n",
       "0                1442.99               0              0             0   \n",
       "\n",
       "   incident_severity  incident_hour_of_the_day  number_of_vehicles_involved  \\\n",
       "0                  2                        21                            1   \n",
       "\n",
       "   bodily_injuries  property_claim  \n",
       "0                1            2770  "
      ]
     },
     "execution_count": 127,
     "metadata": {},
     "output_type": "execute_result"
    }
   ],
   "source": [
    "b"
   ]
  },
  {
   "cell_type": "code",
   "execution_count": 141,
   "id": "effe53f3",
   "metadata": {},
   "outputs": [],
   "source": [
    "load_clf = pickle.load(open('insurance.pkl', 'rb'))\n",
    "prediction = load_clf.predict(b)\n",
    "prediction_proba = load_clf.predict_proba(b)"
   ]
  },
  {
   "cell_type": "code",
   "execution_count": 142,
   "id": "f1d67f56",
   "metadata": {},
   "outputs": [
    {
     "data": {
      "text/plain": [
       "array([0], dtype=int64)"
      ]
     },
     "execution_count": 142,
     "metadata": {},
     "output_type": "execute_result"
    }
   ],
   "source": [
    "prediction"
   ]
  },
  {
   "cell_type": "code",
   "execution_count": 143,
   "id": "d229e9a3",
   "metadata": {},
   "outputs": [
    {
     "data": {
      "text/plain": [
       "array([[1., 0.]])"
      ]
     },
     "execution_count": 143,
     "metadata": {},
     "output_type": "execute_result"
    }
   ],
   "source": [
    "prediction_proba"
   ]
  },
  {
   "cell_type": "code",
   "execution_count": 136,
   "id": "d5b6ce7f",
   "metadata": {},
   "outputs": [
    {
     "data": {
      "text/plain": [
       "KNeighborsClassifier(n_neighbors=3)"
      ]
     },
     "execution_count": 136,
     "metadata": {},
     "output_type": "execute_result"
    }
   ],
   "source": [
    "knn = KNeighborsClassifier(n_neighbors = 3)\n",
    "knn.fit(X_traina, y_traina)"
   ]
  },
  {
   "cell_type": "code",
   "execution_count": 139,
   "id": "b18d99d1",
   "metadata": {},
   "outputs": [
    {
     "data": {
      "text/plain": [
       "array([0], dtype=int64)"
      ]
     },
     "execution_count": 139,
     "metadata": {},
     "output_type": "execute_result"
    }
   ],
   "source": [
    "knn.predict(b)"
   ]
  },
  {
   "cell_type": "code",
   "execution_count": 140,
   "id": "c356c60b",
   "metadata": {},
   "outputs": [
    {
     "data": {
      "text/plain": [
       "array([[1., 0.]])"
      ]
     },
     "execution_count": 140,
     "metadata": {},
     "output_type": "execute_result"
    }
   ],
   "source": [
    "knn.predict_proba(b)"
   ]
  },
  {
   "cell_type": "code",
   "execution_count": null,
   "id": "fe3edd97",
   "metadata": {},
   "outputs": [],
   "source": []
  },
  {
   "cell_type": "code",
   "execution_count": null,
   "id": "77bba0aa",
   "metadata": {},
   "outputs": [],
   "source": []
  },
  {
   "cell_type": "code",
   "execution_count": 147,
   "id": "a6f67883",
   "metadata": {},
   "outputs": [],
   "source": [
    "log = pickle.load(open('insurance_log.pkl', 'rb'))\n",
    "predlog = log.predict(b)\n",
    "probalog = log.predict_proba(b)"
   ]
  },
  {
   "cell_type": "code",
   "execution_count": 148,
   "id": "7a1fd95e",
   "metadata": {},
   "outputs": [
    {
     "data": {
      "text/plain": [
       "0"
      ]
     },
     "execution_count": 148,
     "metadata": {},
     "output_type": "execute_result"
    }
   ],
   "source": [
    "predlog.item(0)"
   ]
  },
  {
   "cell_type": "code",
   "execution_count": 149,
   "id": "19bf4423",
   "metadata": {},
   "outputs": [
    {
     "data": {
      "text/plain": [
       "array([[0.80465356, 0.19534644]])"
      ]
     },
     "execution_count": 149,
     "metadata": {},
     "output_type": "execute_result"
    }
   ],
   "source": [
    "probalog"
   ]
  },
  {
   "cell_type": "code",
   "execution_count": null,
   "id": "d1c30109",
   "metadata": {},
   "outputs": [],
   "source": []
  },
  {
   "cell_type": "code",
   "execution_count": 34,
   "id": "2f8df293",
   "metadata": {},
   "outputs": [],
   "source": [
    "tree = pickle.load(open('insurance_tree_1.pkl', 'rb'))\n",
    "predT = tree.predict(b)\n",
    "probaT = tree.predict_proba(b)"
   ]
  },
  {
   "cell_type": "code",
   "execution_count": 35,
   "id": "343b67fd",
   "metadata": {},
   "outputs": [
    {
     "data": {
      "text/plain": [
       "array([0], dtype=int64)"
      ]
     },
     "execution_count": 35,
     "metadata": {},
     "output_type": "execute_result"
    }
   ],
   "source": [
    "predT"
   ]
  },
  {
   "cell_type": "code",
   "execution_count": 36,
   "id": "f0bd7df5",
   "metadata": {},
   "outputs": [
    {
     "data": {
      "text/plain": [
       "array([[1., 0.]])"
      ]
     },
     "execution_count": 36,
     "metadata": {},
     "output_type": "execute_result"
    }
   ],
   "source": [
    "probaT"
   ]
  },
  {
   "cell_type": "code",
   "execution_count": 37,
   "id": "0a772749",
   "metadata": {},
   "outputs": [],
   "source": [
    "from sklearn.tree import DecisionTreeClassifier"
   ]
  },
  {
   "cell_type": "code",
   "execution_count": 38,
   "id": "2ddd5bc3",
   "metadata": {},
   "outputs": [
    {
     "data": {
      "text/plain": [
       "DecisionTreeClassifier()"
      ]
     },
     "execution_count": 38,
     "metadata": {},
     "output_type": "execute_result"
    }
   ],
   "source": [
    "dtc = DecisionTreeClassifier()\n",
    "dtc.fit(X_train, y_train)"
   ]
  },
  {
   "cell_type": "code",
   "execution_count": 39,
   "id": "004e4ffe",
   "metadata": {},
   "outputs": [
    {
     "data": {
      "text/plain": [
       "array([0], dtype=int64)"
      ]
     },
     "execution_count": 39,
     "metadata": {},
     "output_type": "execute_result"
    }
   ],
   "source": [
    "dtc.predict(b)"
   ]
  },
  {
   "cell_type": "code",
   "execution_count": 40,
   "id": "d12d45a4",
   "metadata": {},
   "outputs": [
    {
     "data": {
      "text/plain": [
       "array([[1., 0.]])"
      ]
     },
     "execution_count": 40,
     "metadata": {},
     "output_type": "execute_result"
    }
   ],
   "source": [
    "dtc.predict_proba(b)"
   ]
  },
  {
   "cell_type": "code",
   "execution_count": null,
   "id": "64a420a5",
   "metadata": {},
   "outputs": [],
   "source": []
  },
  {
   "cell_type": "code",
   "execution_count": 205,
   "id": "71d8313a",
   "metadata": {},
   "outputs": [
    {
     "name": "stdout",
     "output_type": "stream",
     "text": [
      "[[0.33333333 0.66666667]]\n"
     ]
    }
   ],
   "source": [
    "import streamlit as st\n",
    "import pandas as pd\n",
    "import numpy as np\n",
    "import pickle\n",
    "from sklearn.ensemble import RandomForestClassifier\n",
    "\n",
    "st.write(\"\"\"\n",
    "# Insurance fraud detection: IMAFA\n",
    "\n",
    "CEO: Gertaldi Negre Aayar Espicier\n",
    "\n",
    "This app predicts if a claim is a fraud or not !\n",
    "\n",
    "[Notebook](https://colab.research.google.com/drive/1w2xC6w6CkbCVCrsTrxsHQffDtwLzGWkS)\n",
    "\n",
    "\n",
    "Dataset used: [ins_cl_dataset](https://github.com/oualid-ben/data/blob/main/ins_cl_dataset.csv).\n",
    "\"\"\")\n",
    "\n",
    "st.sidebar.header('User Input Features')\n",
    "\n",
    "st.sidebar.markdown(\"\"\"\n",
    "[Example CSV input file](https://raw.githubusercontent.com/oualid-ben/data/main/clean_data_example.csv)\n",
    "\"\"\")\n",
    "\n",
    "# Collects user input features into dataframe\n",
    "uploaded_file = st.sidebar.file_uploader(\"Upload your input CSV file\", type=[\"csv\"])\n",
    "if uploaded_file is not None:\n",
    "    input_df = pd.read_csv(uploaded_file)\n",
    "else:\n",
    "    def user_input_features():\n",
    "        model  = st.sidebar.selectbox('Model',('KNN', 'Decision Tree'))\n",
    "        policy_annual_premium  = st.sidebar.number_input('policy annual premium ', 433.33, 2047.59, 1406.91)\n",
    "        \n",
    "        umbrella_limit  = st.sidebar.number_input('umbrella limit ', -1000000, 10000000, 0)\n",
    "        capital_gains  = st.sidebar.number_input('capital gains ', 0, 100500, 53300)\n",
    "        capital_loss  = st.sidebar.number_input('capital loss ', -111100, 0, 0)\n",
    "        incident_severity  = st.sidebar.number_input('incident severity ', 0, 3, 1)\n",
    "        incident_hour_of_the_day  = st.sidebar.number_input('incident hour of the day ', 0, 23, 5)\n",
    "        number_of_vehicles_involved  = st.sidebar.number_input('number of vehicles involved ', 1,4,1)\n",
    "        bodily_injuries  = st.sidebar.number_input('bodily injuries ', 0, 2, 1)\n",
    "        property_claim  = st.sidebar.number_input('property claim ', 0, 23670, 13020)\n",
    "\n",
    "        data = {'model': model,\n",
    "                'policy_annual_premium': policy_annual_premium,\n",
    "                \n",
    "                'umbrella_limit': umbrella_limit,\n",
    "                'capital_gains': capital_gains,\n",
    "                'capital_loss': capital_loss,\n",
    "                'incident_severity': incident_severity,\n",
    "                'incident_hour_of_the_day': incident_hour_of_the_day,\n",
    "                'number_of_vehicles_involved': number_of_vehicles_involved,\n",
    "                'bodily_injuries': bodily_injuries,\n",
    "                'property_claim': property_claim,\n",
    "               }\n",
    "        features = pd.DataFrame(data, index=[0])\n",
    "        return features\n",
    "    input_df = user_input_features()    \n",
    "\n",
    "# Combines user input features with entire penguins dataset\n",
    "# This will be useful for the encoding phase\n",
    "insurance_raw = pd.read_csv('https://raw.githubusercontent.com/oualid-ben/data/main/clean_data.csv')\n",
    "opt = input_df.drop(columns=['model'], axis=1)\n",
    "df = pd.concat([opt ,insurance_raw],axis=0)\n",
    "\n",
    "df = df[:1] # Selects only the first row (the user input data)\n",
    "\n",
    "# Displays the user input features\n",
    "st.subheader('User Input features')\n",
    "\n",
    "import streamlit as st\n",
    "import pandas as pd\n",
    "import numpy as np\n",
    "import pickle\n",
    "\n",
    "st.write(\"\"\"\n",
    "# Insurance fraud detection: IMAFA\n",
    "\n",
    "CEO: Gertaldi Negre Aayar Espicier\n",
    "\n",
    "This app predicts if a claim is a fraud or not !\n",
    "\n",
    "[Notebook](https://colab.research.google.com/drive/1w2xC6w6CkbCVCrsTrxsHQffDtwLzGWkS)\n",
    "\n",
    "\n",
    "Dataset used: [ins_cl_dataset](https://github.com/oualid-ben/data/blob/main/ins_cl_dataset.csv).\n",
    "\"\"\")\n",
    "\n",
    "st.sidebar.header('User Input Features')\n",
    "\n",
    "st.sidebar.markdown(\"\"\"\n",
    "[Example CSV input file](https://raw.githubusercontent.com/oualid-ben/data/main/clean_data_example.csv)\n",
    "\"\"\")\n",
    "\n",
    "# Collects user input features into dataframe\n",
    "uploaded_file = st.sidebar.file_uploader(\"Upload your input CSV file\", type=[\"csv\"])\n",
    "if uploaded_file is not None:\n",
    "    input_df = pd.read_csv(uploaded_file)\n",
    "else:\n",
    "    def user_input_features():\n",
    "        model  = st.sidebar.selectbox('Model',('KNN', 'RandomForest'))\n",
    "        policy_annual_premium  = st.sidebar.number_input('policy annual premium ', 433.33, 2047.59, 1406.91)\n",
    "        \n",
    "        umbrella_limit  = st.sidebar.number_input('umbrella limit ', -1000000, 10000000, 0)\n",
    "        capital_gains  = st.sidebar.number_input('capital gains ', 0, 100500, 53300)\n",
    "        capital_loss  = st.sidebar.number_input('capital loss ', -111100, 0, 0)\n",
    "        incident_severity  = st.sidebar.number_input('incident severity ', 0, 3, 1)\n",
    "        incident_hour_of_the_day  = st.sidebar.number_input('incident hour of the day ', 0, 23, 5)\n",
    "        number_of_vehicles_involved  = st.sidebar.number_input('number of vehicles involved ', 1,4,1)\n",
    "        bodily_injuries  = st.sidebar.number_input('bodily injuries ', 0, 2, 1)\n",
    "        property_claim  = st.sidebar.number_input('property claim ', 0, 23670, 13020)\n",
    "\n",
    "        data = {'model': model,\n",
    "                'policy_annual_premium': policy_annual_premium,\n",
    "                \n",
    "                'umbrella_limit': umbrella_limit,\n",
    "                'capital_gains': capital_gains,\n",
    "                'capital_loss': capital_loss,\n",
    "                'incident_severity': incident_severity,\n",
    "                'incident_hour_of_the_day': incident_hour_of_the_day,\n",
    "                'number_of_vehicles_involved': number_of_vehicles_involved,\n",
    "                'bodily_injuries': bodily_injuries,\n",
    "                'property_claim': property_claim,\n",
    "               }\n",
    "        features = pd.DataFrame(data, index=[0])\n",
    "        return features\n",
    "    input_df = user_input_features()    \n",
    "\n",
    "# Combines user input features with entire penguins dataset\n",
    "# This will be useful for the encoding phase\n",
    "insurance_raw = pd.read_csv('https://raw.githubusercontent.com/oualid-ben/data/main/clean_data.csv')\n",
    "opt = input_df.drop(columns=['model'], axis=1)\n",
    "df = pd.concat([opt ,insurance_raw],axis=0)\n",
    "\n",
    "df = df[:1] # Selects only the first row (the user input data)\n",
    "\n",
    "# Displays the user input features\n",
    "st.subheader('User Input features')\n",
    "\n",
    "if uploaded_file is not None:\n",
    "    st.write(df)\n",
    "else:\n",
    "    st.write('Awaiting CSV file to be uploaded. Currently using example input parameters (shown below).')\n",
    "    st.write(df)\n",
    "\n",
    "if input_df['model'].iat[0]=='KNN':    \n",
    "    # Reads in saved classification model\n",
    "    load_clf = pickle.load(open('insurance.pkl', 'rb'))\n",
    "    # Apply model to make predictions\n",
    "    prediction = load_clf.predict(df)\n",
    "    prediction_proba = load_clf.predict_proba(df)\n",
    "else:\n",
    "    data = pd.read_csv('https://raw.githubusercontent.com/oualid-ben/data/main/clean_data_fraud.csv')\n",
    "    d = {'Minor Damage': 0, 'Major Damage': 1, 'Total Loss': 2, 'Trivial Damage': 3}\n",
    "    data['incident_severity'] = data['incident_severity'].replace(d)\n",
    "    d_ = {'N': 0, 'Y': 1}\n",
    "    data['fraud_reported'] = data['fraud_reported'].replace(d_)\n",
    "    X = data.drop('fraud_reported', axis=1)\n",
    "    y = data['fraud_reported']\n",
    "    X_train, X_test, y_train, y_test = train_test_split(X, y, test_size=0.25)\n",
    "    dtc = DecisionTreeClassifier()\n",
    "    dtc.fit(X_train, y_train)\n",
    "    prediction = dtc.predict(df)\n",
    "    prediction_proba= dtc.predict_proba(df)\n",
    "\n",
    "\n",
    "st.subheader('Prediction')\n",
    "insurance_species = np.array(['No fraud','Yes, fraud'])\n",
    "st.write(insurance_species[prediction.item(0)])\n",
    "\n",
    "st.subheader('Prediction Probability')\n",
    "st.write(prediction_proba)\n",
    "\n",
    "print(prediction_proba)"
   ]
  },
  {
   "cell_type": "code",
   "execution_count": null,
   "id": "4b0f3218",
   "metadata": {},
   "outputs": [],
   "source": []
  },
  {
   "cell_type": "code",
   "execution_count": 163,
   "id": "6a183c11",
   "metadata": {},
   "outputs": [
    {
     "name": "stdout",
     "output_type": "stream",
     "text": [
      "[[0.33333333 0.66666667]]\n"
     ]
    }
   ],
   "source": [
    "import streamlit as st\n",
    "import pandas as pd\n",
    "import numpy as np\n",
    "import pickle\n",
    "from sklearn.ensemble import RandomForestClassifier\n",
    "\n",
    "st.write(\"\"\"\n",
    "# Insurance fraud detection: IMAFA\n",
    "\n",
    "CEO: Gertaldi Negre Aayar Espicier\n",
    "\n",
    "This app predicts if a claim is a fraud or not !\n",
    "\n",
    "[Notebook](https://colab.research.google.com/drive/1w2xC6w6CkbCVCrsTrxsHQffDtwLzGWkS)\n",
    "\n",
    "\n",
    "Dataset used: [ins_cl_dataset](https://github.com/oualid-ben/data/blob/main/ins_cl_dataset.csv).\n",
    "\"\"\")\n",
    "\n",
    "st.sidebar.header('User Input Features')\n",
    "\n",
    "st.sidebar.markdown(\"\"\"\n",
    "[Example CSV input file](https://raw.githubusercontent.com/oualid-ben/data/main/clean_data_example.csv)\n",
    "\"\"\")\n",
    "\n",
    "# Collects user input features into dataframe\n",
    "uploaded_file = st.sidebar.file_uploader(\"Upload your input CSV file\", type=[\"csv\"])\n",
    "if uploaded_file is not None:\n",
    "    input_df = pd.read_csv(uploaded_file)\n",
    "else:\n",
    "    def user_input_features():\n",
    "        model  = st.sidebar.selectbox('Model',('KNN', 'Decision Tree'))\n",
    "        policy_annual_premium  = st.sidebar.number_input('policy annual premium ', 433.33, 2047.59, 1406.91)\n",
    "        \n",
    "        umbrella_limit  = st.sidebar.number_input('umbrella limit ', -1000000, 10000000, 0)\n",
    "        capital_gains  = st.sidebar.number_input('capital gains ', 0, 100500, 53300)\n",
    "        capital_loss  = st.sidebar.number_input('capital loss ', -111100, 0, 0)\n",
    "        incident_severity  = st.sidebar.number_input('incident severity ', 0, 3, 1)\n",
    "        incident_hour_of_the_day  = st.sidebar.number_input('incident hour of the day ', 0, 23, 5)\n",
    "        number_of_vehicles_involved  = st.sidebar.number_input('number of vehicles involved ', 1,4,1)\n",
    "        bodily_injuries  = st.sidebar.number_input('bodily injuries ', 0, 2, 1)\n",
    "        property_claim  = st.sidebar.number_input('property claim ', 0, 23670, 13020)\n",
    "\n",
    "        data = {'model': model,\n",
    "                'policy_annual_premium': policy_annual_premium,\n",
    "                \n",
    "                'umbrella_limit': umbrella_limit,\n",
    "                'capital_gains': capital_gains,\n",
    "                'capital_loss': capital_loss,\n",
    "                'incident_severity': incident_severity,\n",
    "                'incident_hour_of_the_day': incident_hour_of_the_day,\n",
    "                'number_of_vehicles_involved': number_of_vehicles_involved,\n",
    "                'bodily_injuries': bodily_injuries,\n",
    "                'property_claim': property_claim,\n",
    "               }\n",
    "        features = pd.DataFrame(data, index=[0])\n",
    "        return features\n",
    "    input_df = user_input_features()    \n",
    "\n",
    "# Combines user input features with entire penguins dataset\n",
    "# This will be useful for the encoding phase\n",
    "insurance_raw = pd.read_csv('https://raw.githubusercontent.com/oualid-ben/data/main/clean_data.csv')\n",
    "opt = input_df.drop(columns=['model'], axis=1)\n",
    "df = pd.concat([opt ,insurance_raw],axis=0)\n",
    "\n",
    "df = df[:1] # Selects only the first row (the user input data)\n",
    "\n",
    "# Displays the user input features\n",
    "st.subheader('User Input features')\n",
    "\n",
    "if uploaded_file is not None:\n",
    "    st.write(df)\n",
    "else:\n",
    "    st.write('Awaiting CSV file to be uploaded. Currently using example input parameters (shown below).')\n",
    "    st.write(df)\n",
    "\n",
    "# Reads in saved classification model\n",
    "load_clf = pickle.load(open('insurance.pkl', 'rb'))\n",
    "\n",
    "# Apply model to make predictions\n",
    "prediction = load_clf.predict(df)\n",
    "prediction_proba = load_clf.predict_proba(df)\n",
    "\n",
    "\n",
    "st.subheader('Prediction')\n",
    "insurance_species = np.array(['No fraud','Yes, fraud'])\n",
    "st.write(insurance_species[prediction.item(0)])\n",
    "\n",
    "st.subheader('Prediction Probability')\n",
    "st.write(prediction_proba)\n",
    "\n",
    "print(prediction_proba)"
   ]
  },
  {
   "cell_type": "code",
   "execution_count": null,
   "id": "157af2ab",
   "metadata": {},
   "outputs": [],
   "source": []
  }
 ],
 "metadata": {
  "kernelspec": {
   "display_name": "Python 3 (ipykernel)",
   "language": "python",
   "name": "python3"
  },
  "language_info": {
   "codemirror_mode": {
    "name": "ipython",
    "version": 3
   },
   "file_extension": ".py",
   "mimetype": "text/x-python",
   "name": "python",
   "nbconvert_exporter": "python",
   "pygments_lexer": "ipython3",
   "version": "3.9.7"
  }
 },
 "nbformat": 4,
 "nbformat_minor": 5
}
