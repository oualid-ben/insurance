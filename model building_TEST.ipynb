{
 "cells": [
  {
   "cell_type": "code",
   "execution_count": 53,
   "id": "eb514d8c",
   "metadata": {},
   "outputs": [
    {
     "data": {
      "text/plain": [
       "\"\\nimport pickle\\npickle.dump(knn, open('insurance.pkl', 'wb'))\\n\""
      ]
     },
     "execution_count": 53,
     "metadata": {},
     "output_type": "execute_result"
    }
   ],
   "source": [
    "import pandas as pd\n",
    "from sklearn.model_selection import train_test_split\n",
    "\n",
    "insurance = pd.read_csv('https://raw.githubusercontent.com/oualid-ben/data/main/clean_data_fraud.csv', on_bad_lines='skip')\n",
    "\n",
    "# Ordinal feature encoding\n",
    "# https://www.kaggle.com/pratik1120/penguin-dataset-eda-classification-and-clustering\n",
    "df = insurance.copy()\n",
    "\n",
    "\n",
    "# Separating X and y\n",
    "X = df.drop('fraud_reported', axis=1)\n",
    "Y = df['fraud_reported']\n",
    "\n",
    "X_train, X_test, y_train, y_test = train_test_split(X, Y, test_size=0.25)\n",
    "        \n",
    "        \n",
    "# Build random forest model\n",
    "from sklearn.neighbors import KNeighborsClassifier\n",
    "\n",
    "knn = KNeighborsClassifier(n_neighbors = 3)\n",
    "knn.fit(X_train, y_train)\n",
    "\n",
    "\n",
    "# Saving the model\n",
    "\"\"\"\n",
    "import pickle\n",
    "pickle.dump(knn, open('insurance.pkl', 'wb'))\n",
    "\"\"\""
   ]
  },
  {
   "cell_type": "code",
   "execution_count": 54,
   "id": "bf7eb7b9",
   "metadata": {},
   "outputs": [
    {
     "data": {
      "text/html": [
       "<div>\n",
       "<style scoped>\n",
       "    .dataframe tbody tr th:only-of-type {\n",
       "        vertical-align: middle;\n",
       "    }\n",
       "\n",
       "    .dataframe tbody tr th {\n",
       "        vertical-align: top;\n",
       "    }\n",
       "\n",
       "    .dataframe thead th {\n",
       "        text-align: right;\n",
       "    }\n",
       "</style>\n",
       "<table border=\"1\" class=\"dataframe\">\n",
       "  <thead>\n",
       "    <tr style=\"text-align: right;\">\n",
       "      <th></th>\n",
       "      <th>policy_annual_premium</th>\n",
       "      <th>umbrella_limit</th>\n",
       "      <th>capital_gains</th>\n",
       "      <th>capital_loss</th>\n",
       "      <th>incident_severity</th>\n",
       "      <th>incident_hour_of_the_day</th>\n",
       "      <th>number_of_vehicles_involved</th>\n",
       "      <th>bodily_injuries</th>\n",
       "      <th>property_claim</th>\n",
       "    </tr>\n",
       "  </thead>\n",
       "  <tbody>\n",
       "    <tr>\n",
       "      <th>0</th>\n",
       "      <td>1406.91</td>\n",
       "      <td>0</td>\n",
       "      <td>53300</td>\n",
       "      <td>0</td>\n",
       "      <td>1</td>\n",
       "      <td>5</td>\n",
       "      <td>1</td>\n",
       "      <td>1</td>\n",
       "      <td>13020</td>\n",
       "    </tr>\n",
       "  </tbody>\n",
       "</table>\n",
       "</div>"
      ],
      "text/plain": [
       "   policy_annual_premium  umbrella_limit  capital_gains  capital_loss  \\\n",
       "0                1406.91               0          53300             0   \n",
       "\n",
       "   incident_severity  incident_hour_of_the_day  number_of_vehicles_involved  \\\n",
       "0                  1                         5                            1   \n",
       "\n",
       "   bodily_injuries  property_claim  \n",
       "0                1           13020  "
      ]
     },
     "execution_count": 54,
     "metadata": {},
     "output_type": "execute_result"
    }
   ],
   "source": [
    "#ça devrait donner 1, fraud\n",
    "a = pd.read_csv('https://raw.githubusercontent.com/oualid-ben/data/main/clean_data_example.csv', on_bad_lines='skip')\n",
    "a"
   ]
  },
  {
   "cell_type": "code",
   "execution_count": 56,
   "id": "32fe5825",
   "metadata": {},
   "outputs": [
    {
     "data": {
      "text/plain": [
       "array([1], dtype=int64)"
      ]
     },
     "execution_count": 56,
     "metadata": {},
     "output_type": "execute_result"
    }
   ],
   "source": [
    "knn.predict(a)"
   ]
  },
  {
   "cell_type": "code",
   "execution_count": null,
   "id": "426a61d0",
   "metadata": {},
   "outputs": [],
   "source": []
  },
  {
   "cell_type": "code",
   "execution_count": 57,
   "id": "4bbe4d36",
   "metadata": {},
   "outputs": [
    {
     "data": {
      "text/html": [
       "<div>\n",
       "<style scoped>\n",
       "    .dataframe tbody tr th:only-of-type {\n",
       "        vertical-align: middle;\n",
       "    }\n",
       "\n",
       "    .dataframe tbody tr th {\n",
       "        vertical-align: top;\n",
       "    }\n",
       "\n",
       "    .dataframe thead th {\n",
       "        text-align: right;\n",
       "    }\n",
       "</style>\n",
       "<table border=\"1\" class=\"dataframe\">\n",
       "  <thead>\n",
       "    <tr style=\"text-align: right;\">\n",
       "      <th></th>\n",
       "      <th>policy_annual_premium</th>\n",
       "      <th>umbrella_limit</th>\n",
       "      <th>capital_gains</th>\n",
       "      <th>capital_loss</th>\n",
       "      <th>incident_severity</th>\n",
       "      <th>incident_hour_of_the_day</th>\n",
       "      <th>number_of_vehicles_involved</th>\n",
       "      <th>bodily_injuries</th>\n",
       "      <th>property_claim</th>\n",
       "    </tr>\n",
       "  </thead>\n",
       "  <tbody>\n",
       "    <tr>\n",
       "      <th>0</th>\n",
       "      <td>1442.99</td>\n",
       "      <td>0</td>\n",
       "      <td>0</td>\n",
       "      <td>0</td>\n",
       "      <td>2</td>\n",
       "      <td>21</td>\n",
       "      <td>1</td>\n",
       "      <td>1</td>\n",
       "      <td>2770</td>\n",
       "    </tr>\n",
       "  </tbody>\n",
       "</table>\n",
       "</div>"
      ],
      "text/plain": [
       "   policy_annual_premium  umbrella_limit  capital_gains  capital_loss  \\\n",
       "0                1442.99               0              0             0   \n",
       "\n",
       "   incident_severity  incident_hour_of_the_day  number_of_vehicles_involved  \\\n",
       "0                  2                        21                            1   \n",
       "\n",
       "   bodily_injuries  property_claim  \n",
       "0                1            2770  "
      ]
     },
     "execution_count": 57,
     "metadata": {},
     "output_type": "execute_result"
    }
   ],
   "source": [
    "#ça devrait donner 0, pas de fraud\n",
    "b = pd.read_csv('https://raw.githubusercontent.com/oualid-ben/data/main/example_knn.csv', on_bad_lines='skip')\n",
    "b"
   ]
  },
  {
   "cell_type": "code",
   "execution_count": 58,
   "id": "6827a0c2",
   "metadata": {},
   "outputs": [
    {
     "data": {
      "text/plain": [
       "array([0], dtype=int64)"
      ]
     },
     "execution_count": 58,
     "metadata": {},
     "output_type": "execute_result"
    }
   ],
   "source": [
    "knn.predict(b)"
   ]
  },
  {
   "cell_type": "code",
   "execution_count": null,
   "id": "04bb6fb9",
   "metadata": {},
   "outputs": [],
   "source": []
  },
  {
   "cell_type": "code",
   "execution_count": 59,
   "id": "c741da7e",
   "metadata": {},
   "outputs": [],
   "source": [
    "import pickle\n",
    "import numpy as np"
   ]
  },
  {
   "cell_type": "code",
   "execution_count": 124,
   "id": "1165e1de",
   "metadata": {},
   "outputs": [],
   "source": [
    "load_clf = pickle.load(open('insurance.pkl', 'rb'))"
   ]
  },
  {
   "cell_type": "code",
   "execution_count": 125,
   "id": "6ecdaef9",
   "metadata": {},
   "outputs": [],
   "source": [
    "prediction = load_clf.predict(a)\n",
    "prediction_proba = load_clf.predict_proba(a)"
   ]
  },
  {
   "cell_type": "code",
   "execution_count": 126,
   "id": "357b4bb7",
   "metadata": {},
   "outputs": [
    {
     "data": {
      "text/plain": [
       "1"
      ]
     },
     "execution_count": 126,
     "metadata": {},
     "output_type": "execute_result"
    }
   ],
   "source": [
    "prediction.item(0)"
   ]
  },
  {
   "cell_type": "code",
   "execution_count": 127,
   "id": "a76d45ed",
   "metadata": {},
   "outputs": [
    {
     "data": {
      "text/plain": [
       "array([[0.33333333, 0.66666667]])"
      ]
     },
     "execution_count": 127,
     "metadata": {},
     "output_type": "execute_result"
    }
   ],
   "source": [
    "prediction_proba"
   ]
  },
  {
   "cell_type": "code",
   "execution_count": 128,
   "id": "bf006661",
   "metadata": {},
   "outputs": [
    {
     "data": {
      "text/plain": [
       "'Yes, fraud'"
      ]
     },
     "execution_count": 128,
     "metadata": {},
     "output_type": "execute_result"
    }
   ],
   "source": [
    "insurance_species = np.array(['No fraud','Yes, fraud'])\n",
    "insurance_species[prediction.item(0)]"
   ]
  },
  {
   "cell_type": "code",
   "execution_count": null,
   "id": "89c728dc",
   "metadata": {},
   "outputs": [],
   "source": []
  },
  {
   "cell_type": "code",
   "execution_count": 142,
   "id": "1bb39ac4",
   "metadata": {},
   "outputs": [
    {
     "data": {
      "text/html": [
       "<div>\n",
       "<style scoped>\n",
       "    .dataframe tbody tr th:only-of-type {\n",
       "        vertical-align: middle;\n",
       "    }\n",
       "\n",
       "    .dataframe tbody tr th {\n",
       "        vertical-align: top;\n",
       "    }\n",
       "\n",
       "    .dataframe thead th {\n",
       "        text-align: right;\n",
       "    }\n",
       "</style>\n",
       "<table border=\"1\" class=\"dataframe\">\n",
       "  <thead>\n",
       "    <tr style=\"text-align: right;\">\n",
       "      <th></th>\n",
       "      <th>policy_annual_premium</th>\n",
       "      <th>umbrella_limit</th>\n",
       "      <th>capital_gains</th>\n",
       "      <th>capital_loss</th>\n",
       "      <th>incident_severity</th>\n",
       "      <th>incident_hour_of_the_day</th>\n",
       "      <th>number_of_vehicles_involved</th>\n",
       "      <th>bodily_injuries</th>\n",
       "      <th>property_claim</th>\n",
       "    </tr>\n",
       "  </thead>\n",
       "  <tbody>\n",
       "    <tr>\n",
       "      <th>0</th>\n",
       "      <td>1406.91</td>\n",
       "      <td>0</td>\n",
       "      <td>53300</td>\n",
       "      <td>0</td>\n",
       "      <td>1</td>\n",
       "      <td>5</td>\n",
       "      <td>1</td>\n",
       "      <td>1</td>\n",
       "      <td>13020</td>\n",
       "    </tr>\n",
       "  </tbody>\n",
       "</table>\n",
       "</div>"
      ],
      "text/plain": [
       "   policy_annual_premium  umbrella_limit  capital_gains  capital_loss  \\\n",
       "0                1406.91               0          53300             0   \n",
       "\n",
       "   incident_severity  incident_hour_of_the_day  number_of_vehicles_involved  \\\n",
       "0                  1                         5                            1   \n",
       "\n",
       "   bodily_injuries  property_claim  \n",
       "0                1           13020  "
      ]
     },
     "execution_count": 142,
     "metadata": {},
     "output_type": "execute_result"
    }
   ],
   "source": [
    "a"
   ]
  },
  {
   "cell_type": "code",
   "execution_count": 143,
   "id": "f3f5e539",
   "metadata": {},
   "outputs": [
    {
     "data": {
      "text/plain": [
       "array([1], dtype=int64)"
      ]
     },
     "execution_count": 143,
     "metadata": {},
     "output_type": "execute_result"
    }
   ],
   "source": [
    "dtc.predict(a)"
   ]
  },
  {
   "cell_type": "code",
   "execution_count": 144,
   "id": "77221028",
   "metadata": {},
   "outputs": [
    {
     "data": {
      "text/plain": [
       "array([0], dtype=int64)"
      ]
     },
     "execution_count": 144,
     "metadata": {},
     "output_type": "execute_result"
    }
   ],
   "source": [
    "dtc.predict(b)"
   ]
  },
  {
   "cell_type": "code",
   "execution_count": 169,
   "id": "2060af78",
   "metadata": {},
   "outputs": [],
   "source": [
    "arbre = pickle.load(open('insurance_forest.pkl', 'rb'))\n",
    "pred = arbre.predict(a)\n",
    "proba = arbre.predict_proba(a)"
   ]
  },
  {
   "cell_type": "code",
   "execution_count": 170,
   "id": "36fdb27b",
   "metadata": {},
   "outputs": [
    {
     "data": {
      "text/plain": [
       "array([1], dtype=int64)"
      ]
     },
     "execution_count": 170,
     "metadata": {},
     "output_type": "execute_result"
    }
   ],
   "source": [
    "pred"
   ]
  },
  {
   "cell_type": "code",
   "execution_count": 171,
   "id": "69f84232",
   "metadata": {},
   "outputs": [
    {
     "data": {
      "text/plain": [
       "array([[0.15, 0.85]])"
      ]
     },
     "execution_count": 171,
     "metadata": {},
     "output_type": "execute_result"
    }
   ],
   "source": [
    "proba"
   ]
  },
  {
   "cell_type": "code",
   "execution_count": 133,
   "id": "bd03658c",
   "metadata": {},
   "outputs": [
    {
     "data": {
      "text/plain": [
       "'No fraud'"
      ]
     },
     "execution_count": 133,
     "metadata": {},
     "output_type": "execute_result"
    }
   ],
   "source": [
    "insurance_species[pred.item(0)]"
   ]
  },
  {
   "cell_type": "code",
   "execution_count": null,
   "id": "676c23aa",
   "metadata": {},
   "outputs": [],
   "source": []
  },
  {
   "cell_type": "code",
   "execution_count": null,
   "id": "47e4fd14",
   "metadata": {},
   "outputs": [],
   "source": []
  },
  {
   "cell_type": "code",
   "execution_count": null,
   "id": "f78e5405",
   "metadata": {},
   "outputs": [],
   "source": []
  },
  {
   "cell_type": "code",
   "execution_count": null,
   "id": "e425404d",
   "metadata": {},
   "outputs": [],
   "source": []
  },
  {
   "cell_type": "code",
   "execution_count": null,
   "id": "9d087b16",
   "metadata": {},
   "outputs": [],
   "source": []
  },
  {
   "cell_type": "code",
   "execution_count": 165,
   "id": "1fe148d1",
   "metadata": {},
   "outputs": [
    {
     "name": "stdout",
     "output_type": "stream",
     "text": [
      "True\n",
      "[[0.15 0.85]]\n"
     ]
    }
   ],
   "source": [
    "import streamlit as st\n",
    "import pandas as pd\n",
    "import numpy as np\n",
    "import pickle\n",
    "from sklearn.ensemble import RandomForestClassifier\n",
    "\n",
    "st.write(\"\"\"\n",
    "# Insurance fraud detection: IMAFA\n",
    "\n",
    "CEO: Gertaldi Negre Aayar Espicier\n",
    "\n",
    "This app predicts if a claim is a fraud or not !\n",
    "\n",
    "[Notebook](https://colab.research.google.com/drive/1w2xC6w6CkbCVCrsTrxsHQffDtwLzGWkS)\n",
    "\n",
    "\n",
    "Dataset used: [ins_cl_dataset](https://github.com/oualid-ben/data/blob/main/ins_cl_dataset.csv).\n",
    "\"\"\")\n",
    "\n",
    "st.sidebar.header('User Input Features')\n",
    "\n",
    "st.sidebar.markdown(\"\"\"\n",
    "[Example CSV input file](https://raw.githubusercontent.com/oualid-ben/data/main/clean_data_example.csv)\n",
    "\"\"\")\n",
    "\n",
    "# Collects user input features into dataframe\n",
    "uploaded_file = st.sidebar.file_uploader(\"Upload your input CSV file\", type=[\"csv\"])\n",
    "if uploaded_file is not None:\n",
    "    input_df = pd.read_csv(uploaded_file)\n",
    "else:\n",
    "    def user_input_features():\n",
    "        model  = st.sidebar.selectbox('Model',('KNN', 'Decision Tree'))\n",
    "        policy_annual_premium  = st.sidebar.number_input('policy annual premium ', 433.33, 2047.59, 1406.91)\n",
    "        \n",
    "        umbrella_limit  = st.sidebar.number_input('umbrella limit ', -1000000, 10000000, 0)\n",
    "        capital_gains  = st.sidebar.number_input('capital gains ', 0, 100500, 53300)\n",
    "        capital_loss  = st.sidebar.number_input('capital loss ', -111100, 0, 0)\n",
    "        incident_severity  = st.sidebar.number_input('incident severity ', 0, 3, 1)\n",
    "        incident_hour_of_the_day  = st.sidebar.number_input('incident hour of the day ', 0, 23, 5)\n",
    "        number_of_vehicles_involved  = st.sidebar.number_input('number of vehicles involved ', 1,4,1)\n",
    "        bodily_injuries  = st.sidebar.number_input('bodily injuries ', 0, 2, 1)\n",
    "        property_claim  = st.sidebar.number_input('property claim ', 0, 23670, 13020)\n",
    "\n",
    "        data = {'model': model,\n",
    "                'policy_annual_premium': policy_annual_premium,\n",
    "                \n",
    "                'umbrella_limit': umbrella_limit,\n",
    "                'capital_gains': capital_gains,\n",
    "                'capital_loss': capital_loss,\n",
    "                'incident_severity': incident_severity,\n",
    "                'incident_hour_of_the_day': incident_hour_of_the_day,\n",
    "                'number_of_vehicles_involved': number_of_vehicles_involved,\n",
    "                'bodily_injuries': bodily_injuries,\n",
    "                'property_claim': property_claim,\n",
    "               }\n",
    "        features = pd.DataFrame(data, index=[0])\n",
    "        return features\n",
    "    input_df = user_input_features()    \n",
    "\n",
    "# Combines user input features with entire penguins dataset\n",
    "# This will be useful for the encoding phase\n",
    "insurance_raw = pd.read_csv('https://raw.githubusercontent.com/oualid-ben/data/main/clean_data.csv')\n",
    "opt = input_df.drop(columns=['model'], axis=1)\n",
    "df = pd.concat([opt ,insurance_raw],axis=0)\n",
    "\n",
    "df = df[:1] # Selects only the first row (the user input data)\n",
    "\n",
    "# Displays the user input features\n",
    "st.subheader('User Input features')\n",
    "\n",
    "if uploaded_file is not None:\n",
    "    st.write(df)\n",
    "else:\n",
    "    st.write('Awaiting CSV file to be uploaded. Currently using example input parameters (shown below).')\n",
    "    st.write(df)\n",
    "\n",
    "# Reads in saved classification model\n",
    "# Reads in saved classification model\n",
    "load_clf = pickle.load(open('insurance_forest.pkl', 'rb'))\n",
    "\n",
    "# Apply model to make predictions\n",
    "prediction = load_clf.predict(df)\n",
    "prediction_proba = load_clf.predict_proba(df)\n",
    "\n",
    "\n",
    "st.subheader('Prediction')\n",
    "insurance_species = np.array(['Yes','No'])\n",
    "st.write(insurance_species[prediction])\n",
    "\n",
    "st.subheader('Prediction Probability')\n",
    "st.write(prediction_proba)\n",
    "print(input_df['model'].iat[0]=='KNN')\n",
    "print(prediction_proba)"
   ]
  },
  {
   "cell_type": "code",
   "execution_count": null,
   "id": "d2cf2232",
   "metadata": {},
   "outputs": [],
   "source": []
  },
  {
   "cell_type": "code",
   "execution_count": 163,
   "id": "814bf2f6",
   "metadata": {},
   "outputs": [
    {
     "name": "stdout",
     "output_type": "stream",
     "text": [
      "[[0.33333333 0.66666667]]\n"
     ]
    }
   ],
   "source": [
    "import streamlit as st\n",
    "import pandas as pd\n",
    "import numpy as np\n",
    "import pickle\n",
    "from sklearn.ensemble import RandomForestClassifier\n",
    "\n",
    "st.write(\"\"\"\n",
    "# Insurance fraud detection: IMAFA\n",
    "\n",
    "CEO: Gertaldi Negre Aayar Espicier\n",
    "\n",
    "This app predicts if a claim is a fraud or not !\n",
    "\n",
    "[Notebook](https://colab.research.google.com/drive/1w2xC6w6CkbCVCrsTrxsHQffDtwLzGWkS)\n",
    "\n",
    "\n",
    "Dataset used: [ins_cl_dataset](https://github.com/oualid-ben/data/blob/main/ins_cl_dataset.csv).\n",
    "\"\"\")\n",
    "\n",
    "st.sidebar.header('User Input Features')\n",
    "\n",
    "st.sidebar.markdown(\"\"\"\n",
    "[Example CSV input file](https://raw.githubusercontent.com/oualid-ben/data/main/clean_data_example.csv)\n",
    "\"\"\")\n",
    "\n",
    "# Collects user input features into dataframe\n",
    "uploaded_file = st.sidebar.file_uploader(\"Upload your input CSV file\", type=[\"csv\"])\n",
    "if uploaded_file is not None:\n",
    "    input_df = pd.read_csv(uploaded_file)\n",
    "else:\n",
    "    def user_input_features():\n",
    "        model  = st.sidebar.selectbox('Model',('KNN', 'Decision Tree'))\n",
    "        policy_annual_premium  = st.sidebar.number_input('policy annual premium ', 433.33, 2047.59, 1406.91)\n",
    "        \n",
    "        umbrella_limit  = st.sidebar.number_input('umbrella limit ', -1000000, 10000000, 0)\n",
    "        capital_gains  = st.sidebar.number_input('capital gains ', 0, 100500, 53300)\n",
    "        capital_loss  = st.sidebar.number_input('capital loss ', -111100, 0, 0)\n",
    "        incident_severity  = st.sidebar.number_input('incident severity ', 0, 3, 1)\n",
    "        incident_hour_of_the_day  = st.sidebar.number_input('incident hour of the day ', 0, 23, 5)\n",
    "        number_of_vehicles_involved  = st.sidebar.number_input('number of vehicles involved ', 1,4,1)\n",
    "        bodily_injuries  = st.sidebar.number_input('bodily injuries ', 0, 2, 1)\n",
    "        property_claim  = st.sidebar.number_input('property claim ', 0, 23670, 13020)\n",
    "\n",
    "        data = {'model': model,\n",
    "                'policy_annual_premium': policy_annual_premium,\n",
    "                \n",
    "                'umbrella_limit': umbrella_limit,\n",
    "                'capital_gains': capital_gains,\n",
    "                'capital_loss': capital_loss,\n",
    "                'incident_severity': incident_severity,\n",
    "                'incident_hour_of_the_day': incident_hour_of_the_day,\n",
    "                'number_of_vehicles_involved': number_of_vehicles_involved,\n",
    "                'bodily_injuries': bodily_injuries,\n",
    "                'property_claim': property_claim,\n",
    "               }\n",
    "        features = pd.DataFrame(data, index=[0])\n",
    "        return features\n",
    "    input_df = user_input_features()    \n",
    "\n",
    "# Combines user input features with entire penguins dataset\n",
    "# This will be useful for the encoding phase\n",
    "insurance_raw = pd.read_csv('https://raw.githubusercontent.com/oualid-ben/data/main/clean_data.csv')\n",
    "opt = input_df.drop(columns=['model'], axis=1)\n",
    "df = pd.concat([opt ,insurance_raw],axis=0)\n",
    "\n",
    "df = df[:1] # Selects only the first row (the user input data)\n",
    "\n",
    "# Displays the user input features\n",
    "st.subheader('User Input features')\n",
    "\n",
    "if uploaded_file is not None:\n",
    "    st.write(df)\n",
    "else:\n",
    "    st.write('Awaiting CSV file to be uploaded. Currently using example input parameters (shown below).')\n",
    "    st.write(df)\n",
    "\n",
    "# Reads in saved classification model\n",
    "load_clf = pickle.load(open('insurance.pkl', 'rb'))\n",
    "\n",
    "# Apply model to make predictions\n",
    "prediction = load_clf.predict(df)\n",
    "prediction_proba = load_clf.predict_proba(df)\n",
    "\n",
    "\n",
    "st.subheader('Prediction')\n",
    "insurance_species = np.array(['No fraud','Yes, fraud'])\n",
    "st.write(insurance_species[prediction.item(0)])\n",
    "\n",
    "st.subheader('Prediction Probability')\n",
    "st.write(prediction_proba)\n",
    "\n",
    "print(prediction_proba)"
   ]
  },
  {
   "cell_type": "code",
   "execution_count": null,
   "id": "ae5002b0",
   "metadata": {},
   "outputs": [],
   "source": []
  }
 ],
 "metadata": {
  "kernelspec": {
   "display_name": "Python 3 (ipykernel)",
   "language": "python",
   "name": "python3"
  },
  "language_info": {
   "codemirror_mode": {
    "name": "ipython",
    "version": 3
   },
   "file_extension": ".py",
   "mimetype": "text/x-python",
   "name": "python",
   "nbconvert_exporter": "python",
   "pygments_lexer": "ipython3",
   "version": "3.9.7"
  }
 },
 "nbformat": 4,
 "nbformat_minor": 5
}
