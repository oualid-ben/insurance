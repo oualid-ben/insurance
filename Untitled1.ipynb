{
 "cells": [
  {
   "cell_type": "code",
   "execution_count": 6,
   "id": "5e524c1b",
   "metadata": {},
   "outputs": [
    {
     "ename": "NameError",
     "evalue": "name 'input_df' is not defined",
     "output_type": "error",
     "traceback": [
      "\u001b[1;31m---------------------------------------------------------------------------\u001b[0m",
      "\u001b[1;31mNameError\u001b[0m                                 Traceback (most recent call last)",
      "\u001b[1;32mc:\\temp/ipykernel_12004/1974864618.py\u001b[0m in \u001b[0;36m<module>\u001b[1;34m\u001b[0m\n\u001b[0;32m     39\u001b[0m \u001b[1;31m# This will be useful for the encoding phase\u001b[0m\u001b[1;33m\u001b[0m\u001b[1;33m\u001b[0m\u001b[0m\n\u001b[0;32m     40\u001b[0m \u001b[0minsurance_raw\u001b[0m \u001b[1;33m=\u001b[0m \u001b[0mpd\u001b[0m\u001b[1;33m.\u001b[0m\u001b[0mread_csv\u001b[0m\u001b[1;33m(\u001b[0m\u001b[1;34m'https://raw.githubusercontent.com/oualid-ben/data/main/clean_data.csv'\u001b[0m\u001b[1;33m)\u001b[0m\u001b[1;33m\u001b[0m\u001b[1;33m\u001b[0m\u001b[0m\n\u001b[1;32m---> 41\u001b[1;33m \u001b[0mopt\u001b[0m \u001b[1;33m=\u001b[0m \u001b[0minput_df\u001b[0m\u001b[1;33m.\u001b[0m\u001b[0mdrop\u001b[0m\u001b[1;33m(\u001b[0m\u001b[0mcolumns\u001b[0m\u001b[1;33m=\u001b[0m\u001b[1;33m[\u001b[0m\u001b[1;34m'model'\u001b[0m\u001b[1;33m]\u001b[0m\u001b[1;33m,\u001b[0m \u001b[0maxis\u001b[0m\u001b[1;33m=\u001b[0m\u001b[1;36m1\u001b[0m\u001b[1;33m)\u001b[0m\u001b[1;33m\u001b[0m\u001b[1;33m\u001b[0m\u001b[0m\n\u001b[0m\u001b[0;32m     42\u001b[0m \u001b[0mdf\u001b[0m \u001b[1;33m=\u001b[0m \u001b[0mpd\u001b[0m\u001b[1;33m.\u001b[0m\u001b[0mconcat\u001b[0m\u001b[1;33m(\u001b[0m\u001b[1;33m[\u001b[0m\u001b[0minput_df\u001b[0m\u001b[1;33m,\u001b[0m\u001b[0mopt\u001b[0m\u001b[1;33m]\u001b[0m\u001b[1;33m,\u001b[0m\u001b[0maxis\u001b[0m\u001b[1;33m=\u001b[0m\u001b[1;36m0\u001b[0m\u001b[1;33m)\u001b[0m\u001b[1;33m\u001b[0m\u001b[1;33m\u001b[0m\u001b[0m\n\u001b[0;32m     43\u001b[0m \u001b[1;33m\u001b[0m\u001b[0m\n",
      "\u001b[1;31mNameError\u001b[0m: name 'input_df' is not defined"
     ]
    }
   ],
   "source": [
    "import streamlit as st\n",
    "import pandas as pd\n",
    "import numpy as np\n",
    "import pickle\n",
    "from sklearn.ensemble import RandomForestClassifier\n",
    "\n",
    "st.write(\"\"\"\n",
    "# Ansurance fraud detection: IMAFA\n",
    "\n",
    "This app predicts if a claim is a fraud or not\n",
    "\n",
    "Dataset [ins_cl_dataset](https://github.com/oualid-ben/data/blob/main/ins_cl_dataset.csv).\n",
    "\"\"\")\n",
    "\n",
    "st.sidebar.header('User Input Features')\n",
    "\n",
    "st.sidebar.markdown(\"\"\"\n",
    "[Example CSV input file](https://raw.githubusercontent.com/oualid-ben/data/main/clean_data_example.csv)\n",
    "\"\"\")\n",
    "\n",
    "# Collects user input features into dataframe\n",
    "uploaded_file = st.sidebar.file_uploader(\"Upload your input CSV file\", type=[\"csv\"])\n",
    "if uploaded_file is not None:\n",
    "    input_df = pd.read_csv(uploaded_file)\n",
    "else:\n",
    "    def user_input_features():\n",
    "        model  = st.sidebar.selectbox('Model',('KNN','Tree decision'))\n",
    "        sex = st.sidebar.selectbox('Sex',('male','female'))\n",
    "        number_of_vehicles_involved = st.sidebar.slider('number of vehicles involved', 1,3,2)\n",
    "        witnesses = st.sidebar.slider('Witnesses', 0,3,1)\n",
    "        data = {'model': model,\n",
    "                'number_of_vehicles_involved': number_of_vehicles_involved,\n",
    "                'witnesses': witnesses,\n",
    "               }\n",
    "        features = pd.DataFrame(data, index=[0])\n",
    "        return features\n",
    "\n",
    "# Combines user input features with entire penguins dataset\n",
    "# This will be useful for the encoding phase\n",
    "insurance_raw = pd.read_csv('https://raw.githubusercontent.com/oualid-ben/data/main/clean_data.csv')\n",
    "opt = input_df.drop(columns=['model'], axis=1)\n",
    "df = pd.concat([input_df,opt],axis=0)\n",
    "\n",
    "df = df[:1] # Selects only the first row (the user input data)\n",
    "\n",
    "# Displays the user input features\n",
    "st.subheader('User Input features')\n",
    "\n",
    "if uploaded_file is not None:\n",
    "    st.write(df)\n",
    "else:\n",
    "    st.write('Awaiting CSV file to be uploaded. Currently using example input parameters (shown below).')\n",
    "    st.write(df)\n",
    "\n",
    "# Reads in saved classification model\n",
    "load_clf = pickle.load(open('insurance.pkl', 'rb'))\n",
    "\n",
    "# Apply model to make predictions\n",
    "prediction = load_clf.predict(df)\n",
    "prediction_proba = load_clf.predict_proba(df)\n",
    "\n",
    "\n",
    "st.subheader('Prediction')\n",
    "insurance_species = np.array(['Yes','No'])\n",
    "st.write(insurance_species[prediction])\n",
    "\n",
    "st.subheader('Prediction Probability')\n",
    "st.write(prediction_proba)\n",
    "\n",
    "print('')"
   ]
  },
  {
   "cell_type": "code",
   "execution_count": null,
   "id": "eab2f2bd",
   "metadata": {},
   "outputs": [],
   "source": []
  }
 ],
 "metadata": {
  "kernelspec": {
   "display_name": "Python 3 (ipykernel)",
   "language": "python",
   "name": "python3"
  },
  "language_info": {
   "codemirror_mode": {
    "name": "ipython",
    "version": 3
   },
   "file_extension": ".py",
   "mimetype": "text/x-python",
   "name": "python",
   "nbconvert_exporter": "python",
   "pygments_lexer": "ipython3",
   "version": "3.9.7"
  }
 },
 "nbformat": 4,
 "nbformat_minor": 5
}
