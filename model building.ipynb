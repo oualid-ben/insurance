{
 "cells": [
  {
   "cell_type": "code",
   "execution_count": 44,
   "id": "fae28508",
   "metadata": {},
   "outputs": [],
   "source": [
    "import pandas as pd\n",
    "from sklearn.model_selection import train_test_split\n",
    "from sklearn.neighbors import KNeighborsClassifier\n",
    "import pickle"
   ]
  },
  {
   "cell_type": "code",
   "execution_count": 45,
   "id": "01f5014c",
   "metadata": {},
   "outputs": [],
   "source": [
    "insurance = pd.read_csv('https://raw.githubusercontent.com/oualid-ben/data/main/clean_data_fraud.csv', on_bad_lines='skip')\n",
    "df = insurance.copy()\n",
    "\n",
    "# Separating X and y\n",
    "X = df.drop('fraud_reported', axis=1)\n",
    "Y = df['fraud_reported']\n",
    "\n",
    "X_train, X_test, y_train, y_test = train_test_split(X, Y, test_size=0.25)"
   ]
  },
  {
   "cell_type": "code",
   "execution_count": null,
   "id": "972c4719",
   "metadata": {},
   "outputs": [],
   "source": [
    "# Build KNN model\n",
    "knn = KNeighborsClassifier(n_neighbors = 3)\n",
    "knn.fit(X_train, y_train)\n",
    "\n",
    "\n",
    "# Saving the model\n",
    "pickle.dump(knn, open('insurance.pkl', 'wb'))"
   ]
  },
  {
   "cell_type": "code",
   "execution_count": 46,
   "id": "384090e9",
   "metadata": {},
   "outputs": [],
   "source": [
    "\"\"\"\n",
    "# Build random forest model\n",
    "clf = RandomForestClassifier()\n",
    "clf.fit(X, Y)\n",
    "\n",
    "# Saving the model\n",
    "pickle.dump(clf, open('insurance_forest.pkl', 'wb'))\n",
    "\"\"\""
   ]
  },
  {
   "cell_type": "code",
   "execution_count": null,
   "id": "e7d6c7c0",
   "metadata": {},
   "outputs": [],
   "source": []
  }
 ],
 "metadata": {
  "kernelspec": {
   "display_name": "Python 3 (ipykernel)",
   "language": "python",
   "name": "python3"
  },
  "language_info": {
   "codemirror_mode": {
    "name": "ipython",
    "version": 3
   },
   "file_extension": ".py",
   "mimetype": "text/x-python",
   "name": "python",
   "nbconvert_exporter": "python",
   "pygments_lexer": "ipython3",
   "version": "3.9.7"
  }
 },
 "nbformat": 4,
 "nbformat_minor": 5
}
